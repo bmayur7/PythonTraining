{
  "nbformat": 4,
  "nbformat_minor": 0,
  "metadata": {
    "colab": {
      "provenance": []
    },
    "kernelspec": {
      "name": "python3",
      "display_name": "Python 3"
    },
    "language_info": {
      "name": "python"
    }
  },
  "cells": [
    {
      "cell_type": "code",
      "execution_count": null,
      "metadata": {
        "colab": {
          "base_uri": "https://localhost:8080/",
          "height": 141
        },
        "id": "fooBKl8FmcO4",
        "outputId": "2c2d67e8-e943-4afd-d46b-1b04919f4960"
      },
      "outputs": [
        {
          "output_type": "error",
          "ename": "NameError",
          "evalue": "name 'prit' is not defined",
          "traceback": [
            "\u001b[0;31m---------------------------------------------------------------------------\u001b[0m",
            "\u001b[0;31mNameError\u001b[0m                                 Traceback (most recent call last)",
            "\u001b[0;32m<ipython-input-3-db6dda56cc4d>\u001b[0m in \u001b[0;36m<cell line: 0>\u001b[0;34m()\u001b[0m\n\u001b[0;32m----> 1\u001b[0;31m \u001b[0mprit\u001b[0m\u001b[0;34m(\u001b[0m\u001b[0;34m\"welcome to Python world\"\u001b[0m\u001b[0;34m)\u001b[0m\u001b[0;34m\u001b[0m\u001b[0;34m\u001b[0m\u001b[0m\n\u001b[0m",
            "\u001b[0;31mNameError\u001b[0m: name 'prit' is not defined"
          ]
        }
      ],
      "source": [
        "prit(\"welcome to Python world\")"
      ]
    },
    {
      "cell_type": "code",
      "source": [],
      "metadata": {
        "id": "fvEOfxaH4LHx"
      },
      "execution_count": null,
      "outputs": []
    },
    {
      "cell_type": "code",
      "source": [
        "#dynamic\n",
        "\n",
        "a=10\n",
        "print(a)\n",
        "print(id(a))\n",
        "\n",
        "a=3.14\n",
        "print(a)\n",
        "print(id(a))\n",
        "\n",
        "a=\"NTT\"\n",
        "print(a)\n",
        "print(id(a))\n"
      ],
      "metadata": {
        "colab": {
          "base_uri": "https://localhost:8080/"
        },
        "id": "456iibnZml4b",
        "outputId": "5672f8d6-ae56-4ae2-880e-6af0e5c2eb5a"
      },
      "execution_count": null,
      "outputs": [
        {
          "output_type": "stream",
          "name": "stdout",
          "text": [
            "10\n",
            "10751144\n",
            "3.14\n",
            "138056935807280\n",
            "NTT\n",
            "138056453074224\n"
          ]
        }
      ]
    },
    {
      "cell_type": "code",
      "source": [
        "#deleting a variable\n",
        "\n",
        "a=20\n",
        "print(a)\n",
        "del a\n",
        "print(a)\n"
      ],
      "metadata": {
        "colab": {
          "base_uri": "https://localhost:8080/",
          "height": 193
        },
        "id": "Z-rmSeoH0Vvn",
        "outputId": "6272bbad-81ab-4915-8a04-ec5bac75ab9f"
      },
      "execution_count": null,
      "outputs": [
        {
          "output_type": "stream",
          "name": "stdout",
          "text": [
            "20\n"
          ]
        },
        {
          "output_type": "error",
          "ename": "NameError",
          "evalue": "name 'a' is not defined",
          "traceback": [
            "\u001b[0;31m---------------------------------------------------------------------------\u001b[0m",
            "\u001b[0;31mNameError\u001b[0m                                 Traceback (most recent call last)",
            "\u001b[0;32m<ipython-input-5-b3224e95311a>\u001b[0m in \u001b[0;36m<cell line: 0>\u001b[0;34m()\u001b[0m\n\u001b[1;32m      4\u001b[0m \u001b[0mprint\u001b[0m\u001b[0;34m(\u001b[0m\u001b[0ma\u001b[0m\u001b[0;34m)\u001b[0m\u001b[0;34m\u001b[0m\u001b[0;34m\u001b[0m\u001b[0m\n\u001b[1;32m      5\u001b[0m \u001b[0;32mdel\u001b[0m \u001b[0ma\u001b[0m\u001b[0;34m\u001b[0m\u001b[0;34m\u001b[0m\u001b[0m\n\u001b[0;32m----> 6\u001b[0;31m \u001b[0mprint\u001b[0m\u001b[0;34m(\u001b[0m\u001b[0ma\u001b[0m\u001b[0;34m)\u001b[0m\u001b[0;34m\u001b[0m\u001b[0;34m\u001b[0m\u001b[0m\n\u001b[0m",
            "\u001b[0;31mNameError\u001b[0m: name 'a' is not defined"
          ]
        }
      ]
    },
    {
      "cell_type": "code",
      "source": [
        "#creating multiple variables\n",
        "\n",
        "a,b,c = 10 , 3.14 , \"NTT\"\n",
        "print(a,b,c)"
      ],
      "metadata": {
        "id": "xymAQK2t0mIb",
        "outputId": "2c671d9c-4c7e-4075-e407-ecc6e45c5603",
        "colab": {
          "base_uri": "https://localhost:8080/"
        }
      },
      "execution_count": null,
      "outputs": [
        {
          "output_type": "stream",
          "name": "stdout",
          "text": [
            "10 3.14 NTT\n"
          ]
        }
      ]
    },
    {
      "cell_type": "code",
      "source": [
        "# string\n",
        "\n",
        "s= \"code yug\"\n",
        "\n",
        "print(s[0:3:1])\n",
        "print(s[2:4])\n",
        "print(s[0:5:2])"
      ],
      "metadata": {
        "id": "jcmoWFnXDVF5",
        "outputId": "750c2d4d-16f6-4a75-deb1-8cfb399ad09b",
        "colab": {
          "base_uri": "https://localhost:8080/"
        }
      },
      "execution_count": null,
      "outputs": [
        {
          "output_type": "stream",
          "name": "stdout",
          "text": [
            "cod\n",
            "de\n",
            "cd \n"
          ]
        }
      ]
    },
    {
      "cell_type": "code",
      "source": [
        "# negative slicing\n",
        "\n",
        "s = \"bangalore\"\n",
        "print(s[-1:-4:-1])\n",
        "print(s[-1:-8:-2])\n",
        "print(s[-6:1:-1])"
      ],
      "metadata": {
        "id": "CQyHxA7yJsSC",
        "outputId": "6b3d0c24-6bf9-4143-f13f-25b37b99d7c7",
        "colab": {
          "base_uri": "https://localhost:8080/"
        }
      },
      "execution_count": null,
      "outputs": [
        {
          "output_type": "stream",
          "name": "stdout",
          "text": [
            "ero\n",
            "eoan\n",
            "gn\n"
          ]
        }
      ]
    },
    {
      "cell_type": "code",
      "source": [
        "a=1\n",
        "b=2\n",
        "c=a\n",
        "d=1\n",
        "print(a)\n",
        "print(c)\n",
        "print(d)\n",
        "print(id(a))\n",
        "print(id(d))\n",
        "print(id(b))\n",
        "a={1,2,2,3,4,3}\n",
        "print(a)\n",
        "print(type(\"1\"))\n",
        "print(11,22,33,44)\n",
        "print(\"\"\"this is comments\n",
        "\n",
        "in the python\"\"\")\n"
      ],
      "metadata": {
        "id": "KMyF5FqNSStl",
        "outputId": "b724289b-53a2-4334-bce7-bdef0faa025d",
        "colab": {
          "base_uri": "https://localhost:8080/"
        }
      },
      "execution_count": null,
      "outputs": [
        {
          "output_type": "stream",
          "name": "stdout",
          "text": [
            "1\n",
            "1\n",
            "1\n",
            "10750856\n",
            "10750856\n",
            "10750888\n",
            "{1, 2, 3, 4}\n",
            "<class 'str'>\n",
            "11 22 33 44\n",
            "this is comments\n",
            "      \n",
            "in the python\n"
          ]
        }
      ]
    },
    {
      "cell_type": "code",
      "source": [
        "s=\"bangalore\"\n",
        "s1=\"hello,world!\"\n",
        "print(s1[-5:2:-2])\n",
        "\n",
        "print(s[3:0:-1])\n",
        "\n",
        "print(s[7:1:2])\n",
        "\n",
        "print(s[-9:-4:2])"
      ],
      "metadata": {
        "id": "gZXHNUmY4Nh3",
        "outputId": "0ceb6371-d0ce-4ad2-c8f2-729e523c9082",
        "colab": {
          "base_uri": "https://localhost:8080/"
        }
      },
      "execution_count": 9,
      "outputs": [
        {
          "output_type": "stream",
          "name": "stdout",
          "text": [
            "o,l\n",
            "gna\n",
            "\n",
            "bna\n"
          ]
        }
      ]
    },
    {
      "cell_type": "code",
      "source": [
        "#palindrome logic\n",
        "a=(input(\"Enter a string:\"))\n",
        "b=a[::-1]\n",
        "if a==b:\n",
        "  print(\"Palindrome\")\n",
        "else:\n",
        "  print(\"Not a palindrome\")"
      ],
      "metadata": {
        "id": "ezgCI_4NEfQk",
        "outputId": "a008f5f8-d1e4-4611-85de-28071d0c3832",
        "colab": {
          "base_uri": "https://localhost:8080/"
        }
      },
      "execution_count": 15,
      "outputs": [
        {
          "output_type": "stream",
          "name": "stdout",
          "text": [
            "Enter a string:mlm\n",
            "Palindrome\n"
          ]
        }
      ]
    }
  ]
}