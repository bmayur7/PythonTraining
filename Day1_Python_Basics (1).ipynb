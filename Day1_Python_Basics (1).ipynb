{
  "nbformat": 4,
  "nbformat_minor": 0,
  "metadata": {
    "colab": {
      "provenance": []
    },
    "kernelspec": {
      "name": "python3",
      "display_name": "Python 3"
    },
    "language_info": {
      "name": "python"
    }
  },
  "cells": [
    {
      "cell_type": "code",
      "execution_count": null,
      "metadata": {
        "id": "lajyy_F508A7"
      },
      "outputs": [],
      "source": [
        "a = 10\n",
        "print(a)\n",
        "print(\"a=\",id(a))\n",
        "\n",
        "b=10\n",
        "print(b)\n",
        "print(\"b=\",id(b))\n",
        "\n",
        "c=a\n",
        "print(c)\n",
        "print(\"c=\",id(c))"
      ]
    },
    {
      "cell_type": "code",
      "source": [
        "# dynamic programming\n",
        "\n",
        "a=10\n",
        "print(a)\n",
        "print(id(a))\n",
        "\n",
        "a = 3.14\n",
        "print(a)\n",
        "print(id(a))\n",
        "\n",
        "a =\"NTT\"\n",
        "print(a)\n",
        "print(id(a))"
      ],
      "metadata": {
        "id": "-i-0aiML1_Jc"
      },
      "execution_count": null,
      "outputs": []
    },
    {
      "cell_type": "code",
      "source": [
        "# deleting a variable\n",
        "\n",
        "a = 20\n",
        "print(a)\n",
        "del a\n",
        "print(a)"
      ],
      "metadata": {
        "id": "cdS8o4-f1_XP"
      },
      "execution_count": null,
      "outputs": []
    },
    {
      "cell_type": "code",
      "source": [
        "# creating multiple variables\n",
        "\n",
        "a,b,c = 10 , 3.14 , \"NTT\"\n",
        "print(a,b,c)"
      ],
      "metadata": {
        "colab": {
          "base_uri": "https://localhost:8080/"
        },
        "id": "-Tcxwt2z1_hN",
        "outputId": "2454678a-f9c3-499e-f5de-5d8dff16c5d8"
      },
      "execution_count": null,
      "outputs": [
        {
          "output_type": "stream",
          "name": "stdout",
          "text": [
            "10 3.14 NTT\n"
          ]
        }
      ]
    },
    {
      "cell_type": "code",
      "source": [
        "#assign single values to multiple variables\n",
        "\n",
        "a=b=c=100\n",
        "print(a,b,c)"
      ],
      "metadata": {
        "colab": {
          "base_uri": "https://localhost:8080/"
        },
        "id": "fBZtkyj40zCp",
        "outputId": "dcf7ae02-254e-4dcd-97af-50946f2da71a"
      },
      "execution_count": null,
      "outputs": [
        {
          "output_type": "stream",
          "name": "stdout",
          "text": [
            "100 100 100\n"
          ]
        }
      ]
    },
    {
      "cell_type": "code",
      "source": [
        "# variable annonation\n",
        "a: int = 10\n",
        "print(a)\n",
        "\n",
        "print(__annotations__['a'])\n",
        "\n",
        "b: float = 31.3\n",
        "print(b)\n",
        "\n",
        "print(__annotations__['b'])\n",
        "\n",
        "c: str = \"NTT\"\n",
        "print(c)\n",
        "\n",
        "print(__annotations__['c'])\n",
        "\n",
        "a = \"Blr\"\n",
        "\n",
        "print(a)\n"
      ],
      "metadata": {
        "colab": {
          "base_uri": "https://localhost:8080/"
        },
        "id": "WlomgxER1_qa",
        "outputId": "c887b0ec-a9a9-42a1-92c8-b62b5c0ecfaf"
      },
      "execution_count": null,
      "outputs": [
        {
          "output_type": "stream",
          "name": "stdout",
          "text": [
            "10\n",
            "<class 'int'>\n",
            "31.3\n",
            "<class 'float'>\n",
            "NTT\n",
            "<class 'str'>\n",
            "Blr\n"
          ]
        }
      ]
    },
    {
      "cell_type": "code",
      "source": [
        "import keyword\n",
        "\n",
        "print(keyword.kwlist)\n",
        "print(len(keyword.kwlist))\n"
      ],
      "metadata": {
        "colab": {
          "base_uri": "https://localhost:8080/"
        },
        "id": "GcTCfY_L3HN0",
        "outputId": "954476a5-87d4-4be3-ff2e-c444597497b1"
      },
      "execution_count": null,
      "outputs": [
        {
          "output_type": "stream",
          "name": "stdout",
          "text": [
            "['False', 'None', 'True', 'and', 'as', 'assert', 'async', 'await', 'break', 'class', 'continue', 'def', 'del', 'elif', 'else', 'except', 'finally', 'for', 'from', 'global', 'if', 'import', 'in', 'is', 'lambda', 'nonlocal', 'not', 'or', 'pass', 'raise', 'return', 'try', 'while', 'with', 'yield']\n",
            "35\n"
          ]
        }
      ]
    },
    {
      "cell_type": "code",
      "source": [
        "# this section is for commentingqqqqqqqqqqqqqqqqqqqqqqqqqqqqqqqqqqqqqqqqqqqqqqqqqqqqqqqqqqqqqqqqqqqqqqqqqqqqqqqqqqqqqqq\n",
        "#ddddddddddddddddddddddd\n",
        "#ddddddddddddddddddddd"
      ],
      "metadata": {
        "id": "rKKN5Zvc3xpj"
      },
      "execution_count": null,
      "outputs": []
    },
    {
      "cell_type": "code",
      "source": [
        "# multiline comments\n",
        "\n",
        "\"\"\" efdasdfasdf\n",
        "asdfasdfasdf\n",
        "asdfasdfasdf\n",
        "asdfasfasdfasdfasdfasfd \"\"\"\n",
        "\n",
        "print(\"multiline comment\")"
      ],
      "metadata": {
        "colab": {
          "base_uri": "https://localhost:8080/"
        },
        "id": "wA6IfXeU3_9Y",
        "outputId": "b72d902c-898c-4159-8fae-7639c76e4714"
      },
      "execution_count": null,
      "outputs": [
        {
          "output_type": "stream",
          "name": "stdout",
          "text": [
            "multiline comment\n"
          ]
        }
      ]
    },
    {
      "cell_type": "code",
      "source": [
        "# string\n",
        "\n",
        "s= \"code yug\"\n",
        "\n",
        "print(s[0:3:1])\n",
        "print(s[2:4])"
      ],
      "metadata": {
        "colab": {
          "base_uri": "https://localhost:8080/"
        },
        "id": "oHmrYbaLDSZp",
        "outputId": "77732e31-8673-4b42-8fd1-527d650d5989"
      },
      "execution_count": null,
      "outputs": [
        {
          "output_type": "stream",
          "name": "stdout",
          "text": [
            "cod\n",
            "de\n"
          ]
        }
      ]
    },
    {
      "cell_type": "code",
      "source": [
        "# slicing\n",
        "\n",
        "s = \"bangalore\"\n",
        "\n",
        "print(s[::])"
      ],
      "metadata": {
        "colab": {
          "base_uri": "https://localhost:8080/"
        },
        "id": "5L7WSZC22Yo5",
        "outputId": "b98175f1-36e5-4f6d-b3d6-72048f96bfd7"
      },
      "execution_count": null,
      "outputs": [
        {
          "output_type": "stream",
          "name": "stdout",
          "text": [
            "bangalore\n"
          ]
        }
      ]
    },
    {
      "cell_type": "code",
      "source": [
        "# negative slicing\n",
        "\n",
        "s = \"bangalore\"\n",
        "\n",
        "print(s[-1:-4:-1])\n",
        "print(s[-1:-8:-2])\n",
        "print(s[-2:-6:2])\n",
        "\n",
        "print(s[-1: :-1])"
      ],
      "metadata": {
        "colab": {
          "base_uri": "https://localhost:8080/"
        },
        "id": "rusYStc-JroV",
        "outputId": "d8ef07fc-17f8-4f2b-ab01-83d727b2b922"
      },
      "execution_count": null,
      "outputs": [
        {
          "output_type": "stream",
          "name": "stdout",
          "text": [
            "ero\n",
            "eoan\n",
            "\n",
            "erolagnab\n"
          ]
        }
      ]
    },
    {
      "cell_type": "code",
      "source": [
        "# simple if statement\n",
        "\n",
        "if 10 > 5:\n",
        "  print(\"Yes 10 is greater than 5\")\n",
        "  print(\"I am inside the if block\")\n",
        "  print(\"I am still inside the if block\")\n",
        "else:\n",
        "  print(\"No 10 is not greater than 5\")\n",
        "print(\"I am outside the if block\")\n",
        "\n"
      ],
      "metadata": {
        "colab": {
          "base_uri": "https://localhost:8080/"
        },
        "id": "NapL5g-s7qvT",
        "outputId": "59f48e7f-dc2f-47ed-f3e3-f06fdb1fb765"
      },
      "execution_count": null,
      "outputs": [
        {
          "output_type": "stream",
          "name": "stdout",
          "text": [
            "Yes 10 is greater than 5\n",
            "I am inside the if block\n",
            "I am still inside the if block\n",
            "I am outside the if block\n"
          ]
        }
      ]
    },
    {
      "cell_type": "code",
      "source": [
        "# input statement\n",
        "\n",
        "a = int(input(\"Enter your Marks :\"))\n",
        "\n",
        "if a > 35:\n",
        "  print(\"Pass\")\n",
        "else:\n",
        "  print(\"Fail\")\n",
        "\n",
        "print(\"Thank You\")"
      ],
      "metadata": {
        "colab": {
          "base_uri": "https://localhost:8080/"
        },
        "id": "XvW7MFO3BTaq",
        "outputId": "8cde4c53-d561-478c-82d2-6b8df3502eda"
      },
      "execution_count": null,
      "outputs": [
        {
          "output_type": "stream",
          "name": "stdout",
          "text": [
            "Enter your Marks :34\n",
            "Fail\n",
            "Thank You\n"
          ]
        }
      ]
    },
    {
      "cell_type": "code",
      "source": [
        "# if elif else\n",
        "\n",
        "x=int(input(\"Enter your Marks :\"))\n",
        "\n",
        "if x>=90:\n",
        "  print(\"A Grade\")\n",
        "elif x>=80:\n",
        "  print(\"B Grade\")\n",
        "elif x>=70:\n",
        "  print(\"C Grade\")\n",
        "else:\n",
        "  print(\"D Grade\")\n",
        "\n",
        "print(\"Thank You\")"
      ],
      "metadata": {
        "colab": {
          "base_uri": "https://localhost:8080/"
        },
        "id": "ZzsXS3awDjc6",
        "outputId": "38cdde28-3f5d-4595-edf8-856023a783ad"
      },
      "execution_count": null,
      "outputs": [
        {
          "output_type": "stream",
          "name": "stdout",
          "text": [
            "Enter your Marks :89\n",
            "B Grade\n",
            "Thank You\n"
          ]
        }
      ]
    },
    {
      "cell_type": "code",
      "source": [
        "# reverse a string\n",
        "\n",
        "str=input(\"Enter a string :\")\n",
        "print(str[::-2])"
      ],
      "metadata": {
        "colab": {
          "base_uri": "https://localhost:8080/"
        },
        "id": "BbfCclPI3i2j",
        "outputId": "70e7378f-cf6a-456a-a060-20f5ffdb0f67"
      },
      "execution_count": null,
      "outputs": [
        {
          "output_type": "stream",
          "name": "stdout",
          "text": [
            "Enter a string :mayur\n",
            "rym\n"
          ]
        }
      ]
    },
    {
      "cell_type": "code",
      "source": [
        "str = \"NTD\"\n",
        "print(str[:1:-1])"
      ],
      "metadata": {
        "colab": {
          "base_uri": "https://localhost:8080/"
        },
        "id": "46i-vNwQ4cy0",
        "outputId": "9ad6aba0-0a4c-40b3-b3a2-416c8a50ad2c"
      },
      "execution_count": null,
      "outputs": [
        {
          "output_type": "stream",
          "name": "stdout",
          "text": [
            "D\n"
          ]
        }
      ]
    },
    {
      "cell_type": "code",
      "source": [
        "# break statement\n",
        "\n",
        "for i in \"bangalore\":\n",
        " print(i)\n",
        " if i == 'g':\n",
        "    break\n",
        "\n",
        "print(\"End of loop\")"
      ],
      "metadata": {
        "colab": {
          "base_uri": "https://localhost:8080/"
        },
        "id": "OWQx0ERd6QsC",
        "outputId": "7827353f-b91d-4abf-c956-d1eac9fe5626"
      },
      "execution_count": null,
      "outputs": [
        {
          "output_type": "stream",
          "name": "stdout",
          "text": [
            "b\n",
            "a\n",
            "n\n",
            "g\n",
            "End of loop\n"
          ]
        }
      ]
    },
    {
      "cell_type": "code",
      "source": [
        "#startwith\n",
        "\n",
        "str=input(\"Enter a number: \")\n",
        "if str.startswith(\"92\"):\n",
        "  print(\"Pak\")\n",
        "elif str.startswith(\"91\"):\n",
        "  print(\"India\")\n",
        "elif str.startswith(\"1\"):\n",
        "  print(\"USA\")\n",
        "elif str.startswith(\"3\"):\n",
        "  print(\"uk\")\n",
        "else:\n",
        "  print(\"Number is invalid\")"
      ],
      "metadata": {
        "id": "sGXWWyuMCMGO",
        "outputId": "6b9d222a-a022-4c35-9c80-2d61fa0b8f67",
        "colab": {
          "base_uri": "https://localhost:8080/"
        }
      },
      "execution_count": null,
      "outputs": [
        {
          "output_type": "stream",
          "name": "stdout",
          "text": [
            "Enter a number: 911\n",
            "India\n"
          ]
        }
      ]
    },
    {
      "cell_type": "code",
      "source": [
        "#endswith\n",
        "\n",
        "str=input(\"Enter your url :\")\n",
        "if str.endswith(\"com\"):\n",
        "  print(\"COmmercial website\")\n",
        "elif str.endswith(\"edu\"):\n",
        "  print(\"Educational website\")\n",
        "else:\n",
        "  print(\"Invaid website\")"
      ],
      "metadata": {
        "id": "_pDRADtjGnwO",
        "outputId": "450871b2-c133-4053-a423-55386e781f3c",
        "colab": {
          "base_uri": "https://localhost:8080/"
        }
      },
      "execution_count": null,
      "outputs": [
        {
          "output_type": "stream",
          "name": "stdout",
          "text": [
            "Enter your url :www.com\n",
            "COmmercial website\n"
          ]
        }
      ]
    },
    {
      "cell_type": "code",
      "source": [
        "#remove dups\n",
        "\n",
        "l1=[10,25,36,10,81,25]\n",
        "\n",
        "uniquelist=[]\n",
        "for i in l1:\n",
        "  if i not in uniquelist:\n",
        "    uniquelist.append(i)\n",
        "print(uniquelist)"
      ],
      "metadata": {
        "colab": {
          "base_uri": "https://localhost:8080/"
        },
        "id": "OI9Ze_PJkjvG",
        "outputId": "4e5fb0bf-4123-455f-ee37-08da99b0e046"
      },
      "execution_count": null,
      "outputs": [
        {
          "output_type": "stream",
          "name": "stdout",
          "text": [
            "[10, 25, 36, 81]\n"
          ]
        }
      ]
    },
    {
      "cell_type": "code",
      "source": [
        "#print 2nd largest no from the list\n",
        "\n",
        "l1=[5,15,7,6,3,9,45,54,54.1,54.11]\n",
        "\n",
        "firstlargest=max(l1)\n",
        "print(firstlargest)\n",
        "l1.remove(firstlargest)\n",
        "print(l1)\n",
        "\n",
        "secondlargest=max(l1)\n",
        "print(\"The 2nd largest no is \",secondlargest)\n"
      ],
      "metadata": {
        "colab": {
          "base_uri": "https://localhost:8080/"
        },
        "id": "zwf5Qwiwohh1",
        "outputId": "3d34c0e3-9b21-4f88-e7eb-4e31d48d0aa4"
      },
      "execution_count": null,
      "outputs": [
        {
          "output_type": "stream",
          "name": "stdout",
          "text": [
            "54.11\n",
            "[5, 15, 7, 6, 3, 9, 45, 54, 54.1]\n",
            "The 2nd largest no is  54.1\n"
          ]
        }
      ]
    },
    {
      "cell_type": "code",
      "source": [
        "#print occurances\n",
        "\n",
        "l1=[2,4,6,2,8,6,3,2,4]\n",
        "l2=[]\n",
        "for i in l1:\n",
        "    if i not in l2:\n",
        "        l2.append(i)\n",
        "        print(i,\"Occurs\", l1.count(i), \"times\")\n",
        "\n",
        "l2=[2,4,6,2,8,6,3,2,4]\n",
        "for ele in l2:\n",
        "  count = l2.count(ele)\n",
        "  print(ele, count)"
      ],
      "metadata": {
        "colab": {
          "base_uri": "https://localhost:8080/"
        },
        "id": "AT9RerLlsT6j",
        "outputId": "d86463eb-f2d9-4d53-daab-40e79f719dc5"
      },
      "execution_count": null,
      "outputs": [
        {
          "output_type": "stream",
          "name": "stdout",
          "text": [
            "2 Occurs 3 times\n",
            "4 Occurs 2 times\n",
            "6 Occurs 2 times\n",
            "8 Occurs 1 times\n",
            "3 Occurs 1 times\n",
            "2 3\n",
            "4 2\n",
            "6 2\n",
            "2 3\n",
            "8 1\n",
            "6 2\n",
            "3 1\n",
            "2 3\n",
            "4 2\n"
          ]
        }
      ]
    },
    {
      "cell_type": "code",
      "source": [
        "#tupple\n",
        "\n",
        "t1=(1,3,4,6,7)\n",
        "print(t1)\n",
        "print(type(1))\n",
        "\n",
        "d1={\"q\":3,\"qq\":1.1,\"qqq\":\"NTT Data\"}\n",
        "print(d1)\n",
        "print(type(d1))"
      ],
      "metadata": {
        "id": "FrZ-woomxNOu",
        "outputId": "3c2495ad-c837-4209-d26a-00c7313a4e69",
        "colab": {
          "base_uri": "https://localhost:8080/"
        }
      },
      "execution_count": null,
      "outputs": [
        {
          "output_type": "stream",
          "name": "stdout",
          "text": [
            "(1, 3, 4, 6, 7)\n",
            "<class 'int'>\n",
            "{'q': 3, 'qq': 1.1, 'qqq': 'NTT Data'}\n",
            "<class 'dict'>\n"
          ]
        }
      ]
    },
    {
      "cell_type": "code",
      "source": [
        "#dict\n",
        "\n",
        "d1={\"name\":'Ram','age':30,'city':\"Mum\"}\n",
        "print(d1)\n",
        "print(type(d1))\n",
        "print(d1.keys())\n",
        "print(d1.values())\n",
        "\n",
        "print(d1.items())"
      ],
      "metadata": {
        "colab": {
          "base_uri": "https://localhost:8080/"
        },
        "id": "68u20XwdQKzF",
        "outputId": "210d787d-e190-4c20-aa5e-b1440c78cd04"
      },
      "execution_count": null,
      "outputs": [
        {
          "output_type": "stream",
          "name": "stdout",
          "text": [
            "{'name': 'Ram', 'age': 30, 'city': 'Mum'}\n",
            "<class 'dict'>\n",
            "dict_keys(['name', 'age', 'city'])\n",
            "dict_values(['Ram', 30, 'Mum'])\n",
            "dict_items([('name', 'Ram'), ('age', 30), ('city', 'Mum')])\n"
          ]
        }
      ]
    },
    {
      "cell_type": "code",
      "source": [
        "#dict1\n",
        "\n",
        "d1={2:100,4:200,6:300,'aa':100,'Aa':200}\n",
        "print(d1)"
      ],
      "metadata": {
        "colab": {
          "base_uri": "https://localhost:8080/"
        },
        "id": "rSLfVK7DX8Pr",
        "outputId": "045a4c32-367e-4dc9-b88e-04a39b9d650b"
      },
      "execution_count": 5,
      "outputs": [
        {
          "output_type": "stream",
          "name": "stdout",
          "text": [
            "{2: 100, 4: 200, 6: 300, 'aa': 100, 'Aa': 200}\n"
          ]
        }
      ]
    },
    {
      "cell_type": "code",
      "source": [
        "# create a dict\n",
        "\n",
        "d1 = {2 : 100 ,\n",
        "      4 : 200 ,\n",
        "      6 : 300 ,\n",
        "      8 : 400 ,\n",
        "      10 : 500}\n",
        "print(d1)\n",
        "print(type(d1))\n",
        "\n",
        "print(d1[2])\n",
        "print(d1[10])\n",
        "\n",
        "print('\\n')\n",
        "d2 = {'aa':100,\n",
        "      'bb':200,\n",
        "      'cc':300}\n",
        "\n",
        "print(d2)\n",
        "print(d2['cc'])\n",
        "\n",
        "print('\\n')\n",
        "\n",
        "d3 = {3:[1,2,3],\n",
        "      6:(2,3,4),\n",
        "      7:'NTT'}\n",
        "print(d3)\n",
        "print(d3[6])\n",
        "print(type(d3[6]))\n",
        "print(type(d3[7]))\n",
        "\n",
        "print('\\n')\n",
        "\n",
        "d4={(1,2):100,\n",
        "    (3,4):200,\n",
        "    (5,6):300,\n",
        "    'hi':400}\n",
        "print(d4)\n",
        "print(d4[(1,2)])\n",
        "\n"
      ],
      "metadata": {
        "colab": {
          "base_uri": "https://localhost:8080/"
        },
        "id": "VWngr2akaYQI",
        "outputId": "472dc059-8811-4f2f-db01-b5fb02f6c315"
      },
      "execution_count": 20,
      "outputs": [
        {
          "output_type": "stream",
          "name": "stdout",
          "text": [
            "{2: 100, 4: 200, 6: 300, 8: 400, 10: 500}\n",
            "<class 'dict'>\n",
            "100\n",
            "500\n",
            "\n",
            "\n",
            "{'aa': 100, 'bb': 200, 'cc': 300}\n",
            "300\n",
            "\n",
            "\n",
            "{3: [1, 2, 3], 6: (2, 3, 4), 7: 'NTT'}\n",
            "(2, 3, 4)\n",
            "<class 'tuple'>\n",
            "<class 'str'>\n",
            "\n",
            "\n",
            "{(1, 2): 100, (3, 4): 200, (5, 6): 300, 'hi': 400}\n",
            "100\n"
          ]
        }
      ]
    },
    {
      "cell_type": "code",
      "source": [
        "# iterating through a dict\n",
        "\n",
        "# iterate through keys\n",
        "\n",
        "d1 = {2 : 100 ,\n",
        "      4 : 200 ,\n",
        "      6 : 300 ,\n",
        "      8 : 400 ,\n",
        "      10 : 500}\n",
        "\n",
        "for key1 in d1:\n",
        "  print(key1)"
      ],
      "metadata": {
        "colab": {
          "base_uri": "https://localhost:8080/"
        },
        "id": "cn2c8NmNeJFM",
        "outputId": "1191a5c7-2d10-4824-9bfa-4e2cb8d7d53c"
      },
      "execution_count": 23,
      "outputs": [
        {
          "output_type": "stream",
          "name": "stdout",
          "text": [
            "2\n",
            "4\n",
            "6\n",
            "8\n",
            "10\n"
          ]
        }
      ]
    },
    {
      "cell_type": "code",
      "source": [
        "# iterate through values\n",
        "\n",
        "d1 = {2 : 100 ,\n",
        "      4 : 200 ,\n",
        "      6 : 300 ,\n",
        "      8 : 400 ,\n",
        "      10 : 500}\n",
        "\n",
        "for value in d1.values():\n",
        "  print(value)"
      ],
      "metadata": {
        "colab": {
          "base_uri": "https://localhost:8080/"
        },
        "id": "u0WdrK6bet8W",
        "outputId": "3406ea57-2f19-4c71-eb48-a4cf264193c1"
      },
      "execution_count": 25,
      "outputs": [
        {
          "output_type": "stream",
          "name": "stdout",
          "text": [
            "100\n",
            "200\n",
            "300\n",
            "400\n",
            "500\n"
          ]
        }
      ]
    },
    {
      "cell_type": "code",
      "source": [
        "# iterate through ites ... item means (key,value) pair\n",
        "\n",
        "d1 = {2 : 100 ,\n",
        "      4 : 200 ,\n",
        "      6 : 300 ,\n",
        "      8 : 400 ,\n",
        "      10 : 500}\n",
        "\n",
        "for item in d1.items():\n",
        "  print(item)"
      ],
      "metadata": {
        "colab": {
          "base_uri": "https://localhost:8080/"
        },
        "id": "fCgxL5t4fQTT",
        "outputId": "1f6371bc-1cf3-474c-943a-fc53ba4e415f"
      },
      "execution_count": 26,
      "outputs": [
        {
          "output_type": "stream",
          "name": "stdout",
          "text": [
            "(2, 100)\n",
            "(4, 200)\n",
            "(6, 300)\n",
            "(8, 400)\n",
            "(10, 500)\n"
          ]
        }
      ]
    },
    {
      "cell_type": "code",
      "source": [
        "d1 = {2 : 100 ,\n",
        "      4 : 200 ,\n",
        "      6 : 300 ,\n",
        "      8 : 400 ,\n",
        "      10 : 500}\n",
        "\n",
        "for key in d1:\n",
        "  print(key)\n",
        "  print(d1[key])"
      ],
      "metadata": {
        "id": "K560R1Pqf_BN",
        "outputId": "596f3fd4-c49e-4085-aa44-f80ded47f98d",
        "colab": {
          "base_uri": "https://localhost:8080/"
        }
      },
      "execution_count": 29,
      "outputs": [
        {
          "output_type": "stream",
          "name": "stdout",
          "text": [
            "2\n",
            "100\n",
            "4\n",
            "200\n",
            "6\n",
            "300\n",
            "8\n",
            "400\n",
            "10\n",
            "500\n"
          ]
        }
      ]
    },
    {
      "cell_type": "code",
      "source": [
        "d1 = {2:100, 4:200, 6:300, 8:400}\n",
        "\n",
        "for x,y in d1.items():\n",
        "  print(x)\n",
        "  print(y)"
      ],
      "metadata": {
        "id": "6AtILUbQhGQK",
        "outputId": "8f5748ed-5ba6-423b-db54-d050095d6b48",
        "colab": {
          "base_uri": "https://localhost:8080/"
        }
      },
      "execution_count": 30,
      "outputs": [
        {
          "output_type": "stream",
          "name": "stdout",
          "text": [
            "2\n",
            "100\n",
            "4\n",
            "200\n",
            "6\n",
            "300\n",
            "8\n",
            "400\n"
          ]
        }
      ]
    },
    {
      "cell_type": "code",
      "source": [
        "# membership operator\n",
        "\n",
        "d1 = {2:100, 4:200, 6:300, 8:400}\n",
        "if 2 in d1:\n",
        "  print(\"2 is present\")\n",
        "\n",
        "if 10 not in d1:\n",
        "  print(\"10 not presnet\")"
      ],
      "metadata": {
        "id": "B5FW_yJKhLxd",
        "outputId": "3221e1b2-22b6-47d0-bc35-d4f6dc7d8c6d",
        "colab": {
          "base_uri": "https://localhost:8080/"
        }
      },
      "execution_count": 31,
      "outputs": [
        {
          "output_type": "stream",
          "name": "stdout",
          "text": [
            "2 is present\n",
            "10 not presnet\n"
          ]
        }
      ]
    }
  ]
}